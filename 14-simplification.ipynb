{
 "cells": [
  {
   "cell_type": "markdown",
   "metadata": {},
   "source": [
    "## 간략화\n",
    "\n",
    "문서 가독성을 높이고자, 매력적인 출력 기능을 활성화한다."
   ]
  },
  {
   "cell_type": "code",
   "execution_count": 1,
   "metadata": {
    "collapsed": true
   },
   "outputs": [],
   "source": [
    "from sympy import *\n",
    "x, y, z = symbols('x y z')\n",
    "init_printing(use_unicode=True)"
   ]
  },
  {
   "cell_type": "markdown",
   "metadata": {},
   "source": [
    "### 간략화하기\n",
    "\n",
    "이제 좀더 흥미로운 수학주제로 들어가보자.\n",
    "기호조작시스템에 있어 가장 유용한 기능중 하나는 수학 표현식을 간략화할 수 있는 능력이다.\n",
    "심파이는 다양한 유형의 간략화 작업을 수행하는 수십가지 함수를 제공한다.\n",
    "이런 모든 함수를 `simplify()`라는 일반적인 함수를 통해 지능적인 방식으로 표현식을 가장 단순한 형태로 만들게 된다.\n",
    "다음에 몇가지 예제가 나와 있다."
   ]
  },
  {
   "cell_type": "code",
   "execution_count": 2,
   "metadata": {
    "collapsed": false
   },
   "outputs": [
    {
     "data": {
      "image/png": "[encoded data removed]",
      "text/latex": [
       "$$1$$"
      ],
      "text/plain": [
       "1"
      ]
     },
     "execution_count": 2,
     "metadata": {},
     "output_type": "execute_result"
    }
   ],
   "source": [
    "simplify(sin(x)**2 + cos(x)**2)"
   ]
  },
  {
   "cell_type": "code",
   "execution_count": 3,
   "metadata": {
    "collapsed": false
   },
   "outputs": [
    {
     "data": {
      "image/png": "[encoded data removed]",
      "text/latex": [
       "$$x - 1$$"
      ],
      "text/plain": [
       "x - 1"
      ]
     },
     "execution_count": 3,
     "metadata": {},
     "output_type": "execute_result"
    }
   ],
   "source": [
    "simplify((x**3 + x**2 - x - 1) /(x**2 + 2*x + 1))"
   ]
  },
  {
   "cell_type": "code",
   "execution_count": 4,
   "metadata": {
    "collapsed": false
   },
   "outputs": [
    {
     "data": {
      "image/png": "[encoded data removed]",
      "text/latex": [
       "$$\\left(x - 2\\right) \\left(x - 1\\right)$$"
      ],
      "text/plain": [
       "(x - 2)⋅(x - 1)"
      ]
     },
     "execution_count": 4,
     "metadata": {},
     "output_type": "execute_result"
    }
   ],
   "source": [
    "simplify(gamma(x)/gamma(x-2))"
   ]
  },
  {
   "cell_type": "markdown",
   "metadata": {},
   "source": [
    "`gamma(x)`는 $\\Gamma (x)$ 감마함수다. `simplify()` 함수는 다양한 표현식 클래스를 처리할 수 있는 기능을 갖추고 있다.\n",
    "\n",
    "하지만, `simplify()` 함수도 함정이 있다. 심파이에 주요한 간략화 연산에만 적용되고, 휴리스틱을 사용해서 가장 간략한 결과를 판단한다.\n",
    "하지만, ''가장 간략한''이라는 말은 잘-정의된 용어는 아니다. 예를 들어 $x^2 + 2x + 1$을 ''단순화''하면 $(x + 1)^2$ 결과가 나와야만 된다."
   ]
  },
  {
   "cell_type": "code",
   "execution_count": 5,
   "metadata": {
    "collapsed": false
   },
   "outputs": [
    {
     "data": {
      "image/png": "[encoded data removed]",
      "text/latex": [
       "$$x^{2} + 2 x + 1$$"
      ],
      "text/plain": [
       " 2          \n",
       "x  + 2⋅x + 1"
      ]
     },
     "execution_count": 5,
     "metadata": {},
     "output_type": "execute_result"
    }
   ],
   "source": [
    "simplify(x**2 + 2*x + 1)"
   ]
  },
  {
   "cell_type": "markdown",
   "metadata": {},
   "source": [
    "원하는 결과가 도출되지 않는다. 이런 유형의 간략화를 수행하는 함수가 있다. `factor()`로 불리고 다음에 논의될 예정이다.\n",
    "\n",
    "`simplify()` 함수의 또다른 함정은 불필요하게 느릴 수 있다는 점인데, 이유는 최선의 간략화를 선택하기 전에 많은 유형의 간략화를 시도해보기 때문이다. 이미 어떤 유형의 간략화가 좋은지 알고 있다면, 간략화를 바로 적용하는 특정한 간략화 함수를 바로 적용하는 것이 더 낫다.\n",
    "\n",
    "`simplify()` 함수 대신에 특정 간략화 함수를 적용하는 것은 특정한 함수가 출력형태에 관해 일정부분 보장을 해준다는 장점도 있다.\n",
    "아래 나온 각 함수별로 이점은 토의될 것이다. 예를 들어, `factor()` 함수를 유리수 계수를 갖는 다항식을 호출시키면, 다항식을 더이상 약분할 수 없는 기약 인수로 인수분해되는 것이 보장된다. `simplify()`는 그런 보장이 없다.\n",
    "완전히 휴리스틱이라, 앞에서 살펴봤듯이, 심파이가 수행할 수 있는 가능 간략화를 놓치기도 한다.\n",
    "\n",
    "`simplify()` 함수는 인터랙티브하게 사용될 때 가장 좋은데, 특히 표현식을 더 간략한 형태로 줄일 때 그렇다.\n",
    "`simplify()` 함수가 반환하는 것을 보고 나서, 좀더 정교한 결과를 도출하는데 특정한 함수를 골라 적용시킨다.\n",
    "표현식이 어떤 형태를 갖추어야 되는지 아무런 생각이 없는 경우에 유용한데 표현식을 간략화는데 온갖 함수가 다 필요하기 때문이다."
   ]
  },
  {
   "cell_type": "markdown",
   "metadata": {},
   "source": [
    "## 다항식 / 유리함수 간략화\n",
    "\n",
    "### 전개\n",
    "\n",
    "`expand()` 함수는 심파이에서 가장 일반적으로 사용되는 간략화 함수중 하나다.\n",
    "전개함수는 다양한 응용사례가 있지만, 지금은 다항식을 전개하는데만 고려해본다. 예를 들어:"
   ]
  },
  {
   "cell_type": "code",
   "execution_count": 6,
   "metadata": {
    "collapsed": false
   },
   "outputs": [
    {
     "data": {
      "image/png": "[encoded data removed]",
      "text/latex": [
       "$$x^{2} + 2 x + 1$$"
      ],
      "text/plain": [
       " 2          \n",
       "x  + 2⋅x + 1"
      ]
     },
     "execution_count": 6,
     "metadata": {},
     "output_type": "execute_result"
    }
   ],
   "source": [
    "expand((x + 1)**2)"
   ]
  },
  {
   "cell_type": "code",
   "execution_count": 7,
   "metadata": {
    "collapsed": false
   },
   "outputs": [
    {
     "data": {
      "image/png": "[encoded data removed]",
      "text/latex": [
       "$$x^{2} - x - 6$$"
      ],
      "text/plain": [
       " 2        \n",
       "x  - x - 6"
      ]
     },
     "execution_count": 7,
     "metadata": {},
     "output_type": "execute_result"
    }
   ],
   "source": [
    "expand((x + 2)*(x - 3))"
   ]
  },
  {
   "cell_type": "markdown",
   "metadata": {},
   "source": [
    "다항식이 주어지면, `expand()` 함수는 다항식을 단항식 합으로 구성된 정규형으로 표현한다.\n",
    "\n",
    "`expand()` 함수는 간략화 함수처럼 들리지 않는다. 결국, 함수명 그자체에 드러나듯이, 전개함수는 표현식을 더 적게가 아니라 더 크게 만든다.\n",
    "일반적인 경우 그렇지만, `expand()` 함수를 호출하게면 표현식이 더 줄어드는 경우가 있는데 소거가 되기 때문이다.\n",
    "\n"
   ]
  },
  {
   "cell_type": "code",
   "execution_count": 8,
   "metadata": {
    "collapsed": false
   },
   "outputs": [
    {
     "data": {
      "image/png": "[encoded data removed]",
      "text/latex": [
       "$$-2$$"
      ],
      "text/plain": [
       "-2"
      ]
     },
     "execution_count": 8,
     "metadata": {},
     "output_type": "execute_result"
    }
   ],
   "source": [
    "expand((x + 1)*(x - 2) - (x - 1)*x)"
   ]
  },
  {
   "cell_type": "markdown",
   "metadata": {},
   "source": [
    "### 인수\n",
    "\n",
    "`factor()` 함수는 다항식을 인자로 받아 유리수에 대해 더이상 약분할 수 없는 기약인수로 인수분해한다. 예를 들어:"
   ]
  },
  {
   "cell_type": "code",
   "execution_count": 9,
   "metadata": {
    "collapsed": false
   },
   "outputs": [
    {
     "data": {
      "image/png": "[encoded data removed]",
      "text/latex": [
       "$$\\left(x - 1\\right) \\left(x^{2} + 1\\right)$$"
      ],
      "text/plain": [
       "        ⎛ 2    ⎞\n",
       "(x - 1)⋅⎝x  + 1⎠"
      ]
     },
     "execution_count": 9,
     "metadata": {},
     "output_type": "execute_result"
    }
   ],
   "source": [
    "factor(x**3 - x**2 + x - 1)"
   ]
  },
  {
   "cell_type": "code",
   "execution_count": 10,
   "metadata": {
    "collapsed": false
   },
   "outputs": [
    {
     "data": {
      "image/png": "[encoded data removed]",
      "text/latex": [
       "$$z \\left(x + 2 y\\right)^{2}$$"
      ],
      "text/plain": [
       "           2\n",
       "z⋅(x + 2⋅y) "
      ]
     },
     "execution_count": 10,
     "metadata": {},
     "output_type": "execute_result"
    }
   ],
   "source": [
    "factor(x**2*z + 4*x*y*z + 4*y**2*z)"
   ]
  },
  {
   "cell_type": "markdown",
   "metadata": {},
   "source": [
    "다항식을 보면, `factor()`는 `expand()`와 정반대다. `factor()`는 유리수에 대해 완전 다변량 인수분해 알고리즘을 사용한다.\n",
    "`factor()`로 반환되는 각 인수가 나누어질 수 없도록 보장된다는 의미가 된다.\n",
    "\n",
    "인수 그 자체에 관심을 두는 경우, `factor_list` 함수는 좀더 구조적인 출력결과를 반환시킨다."
   ]
  },
  {
   "cell_type": "code",
   "execution_count": 11,
   "metadata": {
    "collapsed": false
   },
   "outputs": [
    {
     "data": {
      "image/png": "[encoded data removed]",
      "text/latex": [
       "$$\\left ( 1, \\quad \\left [ \\left ( z, \\quad 1\\right ), \\quad \\left ( x + 2 y, \\quad 2\\right )\\right ]\\right )$$"
      ],
      "text/plain": [
       "(1, [(z, 1), (x + 2⋅y, 2)])"
      ]
     },
     "execution_count": 11,
     "metadata": {},
     "output_type": "execute_result"
    }
   ],
   "source": [
    "factor_list(x**2*z + 4*x*y*z + 4*y**2*z)"
   ]
  },
  {
   "cell_type": "markdown",
   "metadata": {},
   "source": [
    "엄밀한 의미에서 `factor`와 `expand` 함수에 입력이 굳이 다항식이 될 필요는 없음에 주목한다.\n",
    "`factor`와 `expand` 함수는 어떤 유형의 표현식도 지능적으로 인수분해 혹은 전개할 수 있다.\n",
    "(하지만, 입력이 유리수에 대한 다항식이 아닌 경우, 인수를 더이상 줄일 수 없게 되지 않을 수도 있음에 주목한다.)"
   ]
  },
  {
   "cell_type": "code",
   "execution_count": 12,
   "metadata": {
    "collapsed": false
   },
   "outputs": [
    {
     "data": {
      "image/png": "[encoded data removed]",
      "text/latex": [
       "$$\\sin^{2}{\\left (x \\right )} + 2 \\sin{\\left (x \\right )} \\cos{\\left (x \\right )} + \\cos^{2}{\\left (x \\right )}$$"
      ],
      "text/plain": [
       "   2                           2   \n",
       "sin (x) + 2⋅sin(x)⋅cos(x) + cos (x)"
      ]
     },
     "execution_count": 12,
     "metadata": {},
     "output_type": "execute_result"
    }
   ],
   "source": [
    "expand((cos(x) + sin(x))**2)"
   ]
  },
  {
   "cell_type": "code",
   "execution_count": 13,
   "metadata": {
    "collapsed": false
   },
   "outputs": [
    {
     "data": {
      "image/png": "[encoded data removed]",
      "text/latex": [
       "$$\\left(\\sin{\\left (x \\right )} + \\cos{\\left (x \\right )}\\right)^{2}$$"
      ],
      "text/plain": [
       "                 2\n",
       "(sin(x) + cos(x)) "
      ]
     },
     "execution_count": 13,
     "metadata": {},
     "output_type": "execute_result"
    }
   ],
   "source": [
    "factor(cos(x)**2 + 2*cos(x)*sin(x) + sin(x)**2)"
   ]
  },
  {
   "cell_type": "markdown",
   "metadata": {},
   "source": [
    "### 수집 함수\n",
    "\n",
    "`collect()` 함수는 표현식에 거듭제곱 항을 모은다. 예를 들어,"
   ]
  },
  {
   "cell_type": "code",
   "execution_count": 15,
   "metadata": {
    "collapsed": false
   },
   "outputs": [
    {
     "data": {
      "image/png": "[encoded data removed]",
      "text/latex": [
       "$$x^{3} - x^{2} z + 2 x^{2} + x y + x - 3$$"
      ],
      "text/plain": [
       " 3    2        2              \n",
       "x  - x ⋅z + 2⋅x  + x⋅y + x - 3"
      ]
     },
     "execution_count": 15,
     "metadata": {},
     "output_type": "execute_result"
    }
   ],
   "source": [
    "expr = x*y + x - 3 + 2*x**2 - z*x**2 + x**3\n",
    "expr"
   ]
  },
  {
   "cell_type": "code",
   "execution_count": 16,
   "metadata": {
    "collapsed": false
   },
   "outputs": [
    {
     "data": {
      "image/png": "[encoded data removed]",
      "text/latex": [
       "$$x^{3} + x^{2} \\left(- z + 2\\right) + x \\left(y + 1\\right) - 3$$"
      ],
      "text/plain": [
       " 3    2                         \n",
       "x  + x ⋅(-z + 2) + x⋅(y + 1) - 3"
      ]
     },
     "execution_count": 16,
     "metadata": {},
     "output_type": "execute_result"
    }
   ],
   "source": [
    "collect_expr = collect(expr, x)\n",
    "collect_expr"
   ]
  },
  {
   "cell_type": "markdown",
   "metadata": {},
   "source": [
    "`collect()` 함수는 `.coeff()` 메쏘드와 연계되면 특히 유용하게 사용된다.\n",
    "`expr.coeff(x, n)` 함수는 `expr` 표현식에 `x**n` 거듭제곱 계수를 반환한다."
   ]
  },
  {
   "cell_type": "code",
   "execution_count": 19,
   "metadata": {
    "collapsed": false
   },
   "outputs": [
    {
     "data": {
      "image/png": "[encoded data removed]",
      "text/latex": [
       "$$- z + 2$$"
      ],
      "text/plain": [
       "-z + 2"
      ]
     },
     "execution_count": 19,
     "metadata": {},
     "output_type": "execute_result"
    }
   ],
   "source": [
    "collect_expr.coeff(x, 2)"
   ]
  },
  {
   "cell_type": "markdown",
   "metadata": {},
   "source": [
    "### 소거 함수\n",
    "\n",
    "`cancel()` 함수는 유리함수를 인자로 받아 $frac{p}{q}$ 정규형으로 표현한다. $p$와 $q$는 공약수 없이 전개된 형태의 다항식으로,\n",
    "$p$와 $q$의 계수는 분모를 갖지 않는다.(즉, 정수임)."
   ]
  },
  {
   "cell_type": "code",
   "execution_count": 20,
   "metadata": {
    "collapsed": false
   },
   "outputs": [
    {
     "data": {
      "image/png": "[encoded data removed]",
      "text/latex": [
       "$$\\frac{1}{x} \\left(x + 1\\right)$$"
      ],
      "text/plain": [
       "x + 1\n",
       "─────\n",
       "  x  "
      ]
     },
     "execution_count": 20,
     "metadata": {},
     "output_type": "execute_result"
    }
   ],
   "source": [
    "cancel((x**2 + 2*x + 1)/(x**2 + x))"
   ]
  },
  {
   "cell_type": "code",
   "execution_count": 21,
   "metadata": {
    "collapsed": false
   },
   "outputs": [
    {
     "data": {
      "image/png": "[encoded data removed]",
      "text/latex": [
       "$$\\frac{\\frac{3 x}{2} - 2}{x - 4} + \\frac{1}{x}$$"
      ],
      "text/plain": [
       "3⋅x        \n",
       "─── - 2    \n",
       " 2        1\n",
       "─────── + ─\n",
       " x - 4    x"
      ]
     },
     "execution_count": 21,
     "metadata": {},
     "output_type": "execute_result"
    }
   ],
   "source": [
    "expr = 1/x + (3*x/2 - 2)/(x - 4)\n",
    "expr"
   ]
  },
  {
   "cell_type": "code",
   "execution_count": 22,
   "metadata": {
    "collapsed": false
   },
   "outputs": [
    {
     "data": {
      "image/png": "[encoded data removed]",
      "text/latex": [
       "$$\\frac{3 x^{2} - 2 x - 8}{2 x^{2} - 8 x}$$"
      ],
      "text/plain": [
       "   2          \n",
       "3⋅x  - 2⋅x - 8\n",
       "──────────────\n",
       "     2        \n",
       "  2⋅x  - 8⋅x  "
      ]
     },
     "execution_count": 22,
     "metadata": {},
     "output_type": "execute_result"
    }
   ],
   "source": [
    "cancel(expr)"
   ]
  },
  {
   "cell_type": "code",
   "execution_count": 23,
   "metadata": {
    "collapsed": false
   },
   "outputs": [
    {
     "data": {
      "image/png": "[encoded data removed]",
      "text/latex": [
       "$$\\frac{1}{x^{2} - 1} \\left(x y^{2} - 2 x y z + x z^{2} + y^{2} - 2 y z + z^{2}\\right)$$"
      ],
      "text/plain": [
       "   2                2    2            2\n",
       "x⋅y  - 2⋅x⋅y⋅z + x⋅z  + y  - 2⋅y⋅z + z \n",
       "───────────────────────────────────────\n",
       "                  2                    \n",
       "                 x  - 1                "
      ]
     },
     "execution_count": 23,
     "metadata": {},
     "output_type": "execute_result"
    }
   ],
   "source": [
    "expr = (x*y**2 - 2*x*y*z + x*z**2 + y**2 -2*y*z + z**2)/(x**2 -1)\n",
    "expr"
   ]
  },
  {
   "cell_type": "code",
   "execution_count": 24,
   "metadata": {
    "collapsed": false
   },
   "outputs": [
    {
     "data": {
      "image/png": "[encoded data removed]",
      "text/latex": [
       "$$\\frac{1}{x - 1} \\left(y^{2} - 2 y z + z^{2}\\right)$$"
      ],
      "text/plain": [
       " 2            2\n",
       "y  - 2⋅y⋅z + z \n",
       "───────────────\n",
       "     x - 1     "
      ]
     },
     "execution_count": 24,
     "metadata": {},
     "output_type": "execute_result"
    }
   ],
   "source": [
    "cancel(expr)"
   ]
  },
  {
   "cell_type": "markdown",
   "metadata": {},
   "source": [
    "`factor()` 함수는 표현식 분모와 분자를 완전히 인수분해할 수 있기 때문에, `factor()` 함수로 같은 작업에 활용될 수 있음에 주목한다."
   ]
  },
  {
   "cell_type": "code",
   "execution_count": 25,
   "metadata": {
    "collapsed": false
   },
   "outputs": [
    {
     "data": {
      "image/png": "[encoded data removed]",
      "text/latex": [
       "$$\\frac{\\left(y - z\\right)^{2}}{x - 1}$$"
      ],
      "text/plain": [
       "       2\n",
       "(y - z) \n",
       "────────\n",
       " x - 1  "
      ]
     },
     "execution_count": 25,
     "metadata": {},
     "output_type": "execute_result"
    }
   ],
   "source": [
    "factor(expr)"
   ]
  },
  {
   "cell_type": "markdown",
   "metadata": {},
   "source": [
    "하지만, 표현식이 소거된 형태로만 확실히 하는데만 관심이 있다면, `cancel()` 함수가 `factor()` 함수보다 더 효율적이다."
   ]
  },
  {
   "cell_type": "markdown",
   "metadata": {},
   "source": [
    "### 쪼개기\n",
    "\n",
    "`apart()` 함수는 유리함수에 대해 [부분분수분해(Partial fraction decomposition)](https://ko.wikipedia.org/wiki/부분분수)를 수행한다."
   ]
  },
  {
   "cell_type": "code",
   "execution_count": 26,
   "metadata": {
    "collapsed": false
   },
   "outputs": [
    {
     "data": {
      "image/png": "[encoded data removed]",
      "text/latex": [
       "$$\\frac{4 x^{3} + 21 x^{2} + 10 x + 12}{x^{4} + 5 x^{3} + 5 x^{2} + 4 x}$$"
      ],
      "text/plain": [
       "   3       2            \n",
       "4⋅x  + 21⋅x  + 10⋅x + 12\n",
       "────────────────────────\n",
       "  4      3      2       \n",
       " x  + 5⋅x  + 5⋅x  + 4⋅x "
      ]
     },
     "execution_count": 26,
     "metadata": {},
     "output_type": "execute_result"
    }
   ],
   "source": [
    "expr = (4*x**3 + 21*x**2 + 10*x + 12)/(x**4 + 5*x**3 + 5*x**2 + 4*x)\n",
    "expr"
   ]
  },
  {
   "cell_type": "code",
   "execution_count": 28,
   "metadata": {
    "collapsed": false
   },
   "outputs": [
    {
     "data": {
      "image/png": "[encoded data removed]",
      "text/latex": [
       "$$\\frac{2 x - 1}{x^{2} + x + 1} - \\frac{1}{x + 4} + \\frac{3}{x}$$"
      ],
      "text/plain": [
       " 2⋅x - 1       1     3\n",
       "────────── - ───── + ─\n",
       " 2           x + 4   x\n",
       "x  + x + 1            "
      ]
     },
     "execution_count": 28,
     "metadata": {},
     "output_type": "execute_result"
    }
   ],
   "source": [
    "apart(expr)"
   ]
  },
  {
   "cell_type": "markdown",
   "metadata": {},
   "source": [
    "## 삼각함수 간략화\n",
    "\n",
    "> ### 역삼각함수 파이썬 관례 {.callout}\n",
    ">\n",
    "> 심파이는 역삼각함수에 대한 파이썬 작명 관례를 준수한다.\n",
    "> 역함수 명칭 앞에 `a`를 덧붙이는 관례다. 예를 들어, 역코사인, 즉 아크코사인은 `acos()`가 된다."
   ]
  },
  {
   "cell_type": "code",
   "execution_count": 29,
   "metadata": {
    "collapsed": false
   },
   "outputs": [
    {
     "data": {
      "image/png": "[encoded data removed]",
      "text/latex": [
       "$$\\operatorname{acos}{\\left (x \\right )}$$"
      ],
      "text/plain": [
       "acos(x)"
      ]
     },
     "execution_count": 29,
     "metadata": {},
     "output_type": "execute_result"
    }
   ],
   "source": [
    "acos(x)"
   ]
  },
  {
   "cell_type": "code",
   "execution_count": 30,
   "metadata": {
    "collapsed": false
   },
   "outputs": [
    {
     "data": {
      "image/png": "[encoded data removed]",
      "text/latex": [
       "$$x$$"
      ],
      "text/plain": [
       "x"
      ]
     },
     "execution_count": 30,
     "metadata": {},
     "output_type": "execute_result"
    }
   ],
   "source": [
    "cos(acos(x))"
   ]
  },
  {
   "cell_type": "code",
   "execution_count": 31,
   "metadata": {
    "collapsed": false
   },
   "outputs": [
    {
     "data": {
      "image/png": "[encoded data removed]",
      "text/latex": [
       "$$\\frac{\\pi}{2}$$"
      ],
      "text/plain": [
       "π\n",
       "─\n",
       "2"
      ]
     },
     "execution_count": 31,
     "metadata": {},
     "output_type": "execute_result"
    }
   ],
   "source": [
    "asin(1)"
   ]
  },
  {
   "cell_type": "markdown",
   "metadata": {},
   "source": [
    "### trigsimp\n",
    "\n",
    "삼각함수를 사용하는 표현식을 간략화하려면, `trigsimp()` 함수를 사용한다."
   ]
  },
  {
   "cell_type": "code",
   "execution_count": 32,
   "metadata": {
    "collapsed": false
   },
   "outputs": [
    {
     "data": {
      "image/png": "[encoded data removed]",
      "text/latex": [
       "$$1$$"
      ],
      "text/plain": [
       "1"
      ]
     },
     "execution_count": 32,
     "metadata": {},
     "output_type": "execute_result"
    }
   ],
   "source": [
    "trigsimp(sin(x)**2 + cos(x)**2)"
   ]
  },
  {
   "cell_type": "code",
   "execution_count": 33,
   "metadata": {
    "collapsed": false
   },
   "outputs": [
    {
     "data": {
      "image/png": "[encoded data removed]",
      "text/latex": [
       "$$\\frac{1}{2} \\cos{\\left (4 x \\right )} + \\frac{1}{2}$$"
      ],
      "text/plain": [
       "cos(4⋅x)   1\n",
       "──────── + ─\n",
       "   2       2"
      ]
     },
     "execution_count": 33,
     "metadata": {},
     "output_type": "execute_result"
    }
   ],
   "source": [
    "trigsimp(sin(x)**4 - 2*cos(x)**2*sin(x)**2 + cos(x)**4)"
   ]
  },
  {
   "cell_type": "code",
   "execution_count": 34,
   "metadata": {
    "collapsed": false
   },
   "outputs": [
    {
     "data": {
      "image/png": "[encoded data removed]",
      "text/latex": [
       "$$\\sin^{2}{\\left (x \\right )}$$"
      ],
      "text/plain": [
       "   2   \n",
       "sin (x)"
      ]
     },
     "execution_count": 34,
     "metadata": {},
     "output_type": "execute_result"
    }
   ],
   "source": [
    "trigsimp(sin(x)*tan(x)/sec(x))"
   ]
  },
  {
   "cell_type": "markdown",
   "metadata": {},
   "source": [
    "`trigsimp()` 함수는 쌍곡선 삼각함수에도 동작한다."
   ]
  },
  {
   "cell_type": "code",
   "execution_count": 35,
   "metadata": {
    "collapsed": false
   },
   "outputs": [
    {
     "data": {
      "image/png": "[encoded data removed]",
      "text/latex": [
       "$$\\cosh{\\left (2 x \\right )}$$"
      ],
      "text/plain": [
       "cosh(2⋅x)"
      ]
     },
     "execution_count": 35,
     "metadata": {},
     "output_type": "execute_result"
    }
   ],
   "source": [
    "trigsimp(cosh(x)**2 + sinh(x)**2)"
   ]
  },
  {
   "cell_type": "code",
   "execution_count": 36,
   "metadata": {
    "collapsed": false
   },
   "outputs": [
    {
     "data": {
      "image/png": "[encoded data removed]",
      "text/latex": [
       "$$\\cosh{\\left (x \\right )}$$"
      ],
      "text/plain": [
       "cosh(x)"
      ]
     },
     "execution_count": 36,
     "metadata": {},
     "output_type": "execute_result"
    }
   ],
   "source": [
    "trigsimp(sinh(x)/tanh(x))"
   ]
  },
  {
   "cell_type": "markdown",
   "metadata": {},
   "source": [
    "`simplify()` 함수와 마찬가지로, `trigsimp()` 함수는 다양한 삼각함수를 입력표현식으로 받고 나서, 휴리스틱을 사용해서 ''최선''을 찾아 뽑아낸다."
   ]
  },
  {
   "cell_type": "markdown",
   "metadata": {},
   "source": [
    "### expand_trig\n",
    "\n",
    "삼각함수를 전개, 즉 합과 배각(double angle)를 적용하려면, `expand_trig()` 함수를 사용한다."
   ]
  },
  {
   "cell_type": "code",
   "execution_count": 37,
   "metadata": {
    "collapsed": false
   },
   "outputs": [
    {
     "data": {
      "image/png": "[encoded data removed]",
      "text/latex": [
       "$$\\sin{\\left (x \\right )} \\cos{\\left (y \\right )} + \\sin{\\left (y \\right )} \\cos{\\left (x \\right )}$$"
      ],
      "text/plain": [
       "sin(x)⋅cos(y) + sin(y)⋅cos(x)"
      ]
     },
     "execution_count": 37,
     "metadata": {},
     "output_type": "execute_result"
    }
   ],
   "source": [
    "expand_trig(sin(x+y))"
   ]
  },
  {
   "cell_type": "code",
   "execution_count": 38,
   "metadata": {
    "collapsed": false
   },
   "outputs": [
    {
     "data": {
      "image/png": "[encoded data removed]",
      "text/latex": [
       "$$\\frac{2 \\tan{\\left (x \\right )}}{- \\tan^{2}{\\left (x \\right )} + 1}$$"
      ],
      "text/plain": [
       "   2⋅tan(x)  \n",
       "─────────────\n",
       "     2       \n",
       "- tan (x) + 1"
      ]
     },
     "execution_count": 38,
     "metadata": {},
     "output_type": "execute_result"
    }
   ],
   "source": [
    "expand_trig(tan(2*x))"
   ]
  },
  {
   "cell_type": "markdown",
   "metadata": {},
   "source": [
    "`expand_trig()` 함수는 삼각함수 표현식을 더 크게 확장시키고, `trigsimp()` 함수는 삼각함수 표현식을 더 작게 축소시키기 때문에,\n",
    "`trigsimp()` 함수를 사용해서 역으로 적용시킬 수 있다."
   ]
  },
  {
   "cell_type": "code",
   "execution_count": 39,
   "metadata": {
    "collapsed": false
   },
   "outputs": [
    {
     "data": {
      "image/png": "[encoded data removed]",
      "text/latex": [
       "$$\\sin{\\left (x + y \\right )}$$"
      ],
      "text/plain": [
       "sin(x + y)"
      ]
     },
     "execution_count": 39,
     "metadata": {},
     "output_type": "execute_result"
    }
   ],
   "source": [
    "trigsimp(sin(x)*cos(y) + sin(y)*cos(x))"
   ]
  },
  {
   "cell_type": "markdown",
   "metadata": {},
   "source": [
    "## 거듭제곱\n",
    "\n",
    "거듭제곱 간략화 함수를 소개하기 전에, 거듭제곱이 갖는 항등식에 대한 수학적 논의가 필요한 시점이다. 거듭제곱 지수가 만족시켜야 되는 세가지 유형의 항등식이 있다.\n",
    "\n",
    "1. $x^a x^b = x^{a + b}$\n",
    "1. $x^a y^a = (xy)^a$\n",
    "1. $(x^a)^b = x^{ab}$\n",
    "\n",
    "항등식 1은 항상 참으로 성립된다.\n",
    "\n",
    "항등식 2는 항상 참이 아니다. 예를 들어, $x = y = -1$ 이고 $a = \\frac{1}{2}$ 이면,\n",
    "$x^ay^a = \\sqrt{-1}\\sqrt{-1} = i\\cdot i = -1$이 되는 반면에, \n",
    "$(xy)^a = \\sqrt{-1\\cdot-1} = \\sqrt{1} = 1$이 된다.\n",
    "하지만, 적어도 $x$와 $y$가 음수가 아니고, $a$가 실수이면 항등식 2는 참으로 성립된다. (다른 조건아래에서 참일 수도 있다)\n",
    "항등식 2가 성립하지 않는 일반적인 경우가 $\\sqrt{x}\\sqrt{y} \\neq \\sqrt{xy}$이다.\n",
    "\n",
    "항등식 2은 항상 참이 아니다. 예를 들어, $x = -1$, $a = 2$ 이고, $b = \\frac{1}{2}$ 이면, \n",
    "$(x^a)^b = {\\left ((-1)^2\\right )}^{1/2} = \\sqrt{1} = 1$ 이 되고, \n",
    "$x^{ab} = (-1)^{2\\cdot1/2} = (-1)^1 = -1$ 이 되어 성립하지 않는다.\n",
    "하지만, 항등식 3은 $b$가 정수이면 참으로 성립된다. (물론, 다른 경우에도 성립된다.)\n",
    "항등식 3이 성립하지 않는 두가지 일반적인 경우는 $\\sqrt{x^2}\\neq x$, $\\sqrt{\\frac{1}{x}} \\neq \\frac{1}{\\sqrt{x}}$ 이다.\n",
    "\n",
    "요약하면,\n",
    "\n",
    "\n",
    "|     항등식            |         성립할 충분조건            |                 조건이 충족되지 않는 반례          |중요한 결과|\n",
    "|-----------------------|------------------------------------|----------------------------------------------------|--------------------|\n",
    "|1. $x^ax^b = x^{a + b}$|      항상 참                       |  관련없음                                          | 관련 없음 |\n",
    "|2. $x^ay^a = (xy)^a$   |$x, y \\geq 0$ 이고 $a \\in \\mathbb{R}$|$(-1)^{1/2}(-1)^{1/2} \\neq (-1\\cdot-1)^{1/2}$      | 일반적으로 $\\sqrt{x}\\sqrt{y} \\neq \\sqrt{xy}$  |\n",
    "|3. $(x^a)^b = x^{ab}$  |$b \\in \\mathbb{Z}$                  |${\\left((-1)^2\\right )}^{1/2} \\neq (-1)^{2\\cdot1/2}$| 일반적으로 $\\sqrt{x^2}\\neq x$ 와 $\\sqrt{\\frac{1}{x}}\\neq\\frac{1}{\\sqrt{x}}$ |\n",
    "\n",
    "기억해야 될마큼 중요한데 이유는 기본디폴트 설정으로 심파이는 참이 아니면 간략화를 수행하지 않는다.\n",
    "\n",
    "특정 가정아래서 참인 항등식과 관련된 간략화를 심파이가 수행하려면, 심볼에 대한 가정을 할 필요가 있다.\n",
    "나중에 가정시스템에 대한 전체적인 논의를 할 예정이지만, 지금 당장 알고 있을 필요가 있는 것은 다음과 같다.\n",
    "\n",
    "* 기본디폴트 설정으로 심파이 기호는 복소수($\\mathbb{C}$ 요소)를 가정한다. 즉, 모든 복소수에 대해 성립하지 않는 경우, 주어진 기호에 대한 표현식에 간략화가 적용되지 않는다.\n",
    "* 가정을 `symbols()` 함수에 전달함으로써 기호에 다른 가정이 주어진다.\n",
    "이번 절 나머지 부분에서 `x`와 `y`를 양수, `a`와 `b`를 실수로 가정한다.\n",
    "이런 경우에 무슨 일이 일어날지 시연하는데 `z`, `t`, `c`를 임의 복소수 기호로 "
   ]
  },
  {
   "cell_type": "code",
   "execution_count": 40,
   "metadata": {
    "collapsed": true
   },
   "outputs": [],
   "source": [
    "x, y = symbols('x y', positive=True)\n",
    "a, b = symbols('a b', real=True)\n",
    "z, t, c = symbols('z t c')"
   ]
  },
  {
   "cell_type": "markdown",
   "metadata": {},
   "source": [
    "> 심파이에서 `sqrt(x)`는 `x**Rational(1,2)`를 축약한 것으로 둘은 정확하게 같은 객체다.\n",
    ">\n",
    "> sqrt(x) == x**Rational(1,2)  \n",
    "> True"
   ]
  },
  {
   "cell_type": "markdown",
   "metadata": {},
   "source": [
    " ### powsimp\n",
    " \n",
    " `powsimp()` 함수는 위에 정의된 항등식 1,2 에 왼쪽에서 오른쪽으로 적용된다."
   ]
  },
  {
   "cell_type": "code",
   "execution_count": 41,
   "metadata": {
    "collapsed": false
   },
   "outputs": [
    {
     "data": {
      "image/png": "[encoded data removed]",
      "text/latex": [
       "$$x^{a + b}$$"
      ],
      "text/plain": [
       " a + b\n",
       "x     "
      ]
     },
     "execution_count": 41,
     "metadata": {},
     "output_type": "execute_result"
    }
   ],
   "source": [
    "powsimp(x**a*x**b)"
   ]
  },
  {
   "cell_type": "code",
   "execution_count": 42,
   "metadata": {
    "collapsed": false
   },
   "outputs": [
    {
     "data": {
      "image/png": "[encoded data removed]",
      "text/latex": [
       "$$\\left(x y\\right)^{a}$$"
      ],
      "text/plain": [
       "     a\n",
       "(x⋅y) "
      ]
     },
     "execution_count": 42,
     "metadata": {},
     "output_type": "execute_result"
    }
   ],
   "source": [
    "powsimp(x**a*y**a)"
   ]
  },
  {
   "cell_type": "markdown",
   "metadata": {},
   "source": [
    "`powsimp()` 함수는 적법하지 않는 경우 간략화를 거부하는 것에 주목한다."
   ]
  },
  {
   "cell_type": "code",
   "execution_count": 44,
   "metadata": {
    "collapsed": false
   },
   "outputs": [
    {
     "data": {
      "image/png": "[encoded data removed]",
      "text/latex": [
       "$$t^{c} z^{c}$$"
      ],
      "text/plain": [
       " c  c\n",
       "t ⋅z "
      ]
     },
     "execution_count": 44,
     "metadata": {},
     "output_type": "execute_result"
    }
   ],
   "source": [
    "powsimp(t**c*z**c)"
   ]
  },
  {
   "cell_type": "markdown",
   "metadata": {},
   "source": [
    "간략화를 적용하고자 하지만, 가정으로 인해 난잡하게 되는 것을 원치 않는 경우, `force=True` 플래그를 전달할 수도 있다. 이를 통해 간략화가 가정에 관계없이 진행되게 된다."
   ]
  },
  {
   "cell_type": "code",
   "execution_count": 45,
   "metadata": {
    "collapsed": false
   },
   "outputs": [
    {
     "data": {
      "image/png": "[encoded data removed]",
      "text/latex": [
       "$$\\left(t z\\right)^{c}$$"
      ],
      "text/plain": [
       "     c\n",
       "(t⋅z) "
      ]
     },
     "execution_count": 45,
     "metadata": {},
     "output_type": "execute_result"
    }
   ],
   "source": [
    "powsimp(t**c*z**c, force=True)"
   ]
  },
  {
   "cell_type": "markdown",
   "metadata": {},
   "source": [
    "일부 경우에, 특히 지수가 정수 혹은 유리수이며 항등식 2가 성립하는 경우, 자동으로 적용된다."
   ]
  },
  {
   "cell_type": "code",
   "execution_count": 46,
   "metadata": {
    "collapsed": false
   },
   "outputs": [
    {
     "data": {
      "image/png": "[encoded data removed]",
      "text/latex": [
       "$$t^{2} z^{2}$$"
      ],
      "text/plain": [
       " 2  2\n",
       "t ⋅z "
      ]
     },
     "execution_count": 46,
     "metadata": {},
     "output_type": "execute_result"
    }
   ],
   "source": [
    "(z*t)**2"
   ]
  },
  {
   "cell_type": "code",
   "execution_count": 47,
   "metadata": {
    "collapsed": false
   },
   "outputs": [
    {
     "data": {
      "image/png": "[encoded data removed]",
      "text/latex": [
       "$$\\sqrt{x} \\sqrt{y}$$"
      ],
      "text/plain": [
       "√x⋅√y"
      ]
     },
     "execution_count": 47,
     "metadata": {},
     "output_type": "execute_result"
    }
   ],
   "source": [
    "sqrt(x*y)"
   ]
  },
  {
   "cell_type": "markdown",
   "metadata": {},
   "source": [
    "### `expand_power_exp` / `expand_power_base`\n",
    "\n",
    "`expand_power_exp()` 와 `expand_power_base()` 함수는 오른쪽에서 왼쪽으로 항등식 1,2에 각각 적용된다."
   ]
  },
  {
   "cell_type": "code",
   "execution_count": 48,
   "metadata": {
    "collapsed": false
   },
   "outputs": [
    {
     "data": {
      "image/png": "[encoded data removed]",
      "text/latex": [
       "$$x^{a} x^{b}$$"
      ],
      "text/plain": [
       " a  b\n",
       "x ⋅x "
      ]
     },
     "execution_count": 48,
     "metadata": {},
     "output_type": "execute_result"
    }
   ],
   "source": [
    "expand_power_exp(x**(a+b))"
   ]
  },
  {
   "cell_type": "code",
   "execution_count": 49,
   "metadata": {
    "collapsed": false
   },
   "outputs": [
    {
     "data": {
      "image/png": "[encoded data removed]",
      "text/latex": [
       "$$x^{a} y^{a}$$"
      ],
      "text/plain": [
       " a  a\n",
       "x ⋅y "
      ]
     },
     "execution_count": 49,
     "metadata": {},
     "output_type": "execute_result"
    }
   ],
   "source": [
    "expand_power_base((x*y)**a)"
   ]
  },
  {
   "cell_type": "markdown",
   "metadata": {},
   "source": [
    "`powsimp()` 와 마찬가지로, 항등식 2는 적법하지 않는 경우 적용되지 않는다."
   ]
  },
  {
   "cell_type": "code",
   "execution_count": 52,
   "metadata": {
    "collapsed": false
   },
   "outputs": [
    {
     "data": {
      "image/png": "[encoded data removed]",
      "text/latex": [
       "$$\\left(t z\\right)^{c}$$"
      ],
      "text/plain": [
       "     c\n",
       "(t⋅z) "
      ]
     },
     "execution_count": 52,
     "metadata": {},
     "output_type": "execute_result"
    }
   ],
   "source": [
    "expand_power_base((z*t)**c)"
   ]
  },
  {
   "cell_type": "markdown",
   "metadata": {},
   "source": [
    "`powsimp()` 함수와 마찬가지로 `force=True` 인자를 사용해서 가정을 조작할 필요없이 전개를 강제할 수 있다."
   ]
  },
  {
   "cell_type": "code",
   "execution_count": 53,
   "metadata": {
    "collapsed": false
   },
   "outputs": [
    {
     "data": {
      "image/png": "[encoded data removed]",
      "text/latex": [
       "$$t^{c} z^{c}$$"
      ],
      "text/plain": [
       " c  c\n",
       "t ⋅z "
      ]
     },
     "execution_count": 53,
     "metadata": {},
     "output_type": "execute_result"
    }
   ],
   "source": [
    "expand_power_base((z*t)**c, force=True)"
   ]
  },
  {
   "cell_type": "markdown",
   "metadata": {},
   "source": [
    "항등식 2와 마찬가지로, 항등식 1은 거듭제곱이 숫자면 자동으로 적용된다. 따라서 `expand_power_exp()` 함수로 별도 작업을 할 필요가 없다."
   ]
  },
  {
   "cell_type": "code",
   "execution_count": 54,
   "metadata": {
    "collapsed": false
   },
   "outputs": [
    {
     "data": {
      "image/png": "[encoded data removed]",
      "text/latex": [
       "$$x^{5}$$"
      ],
      "text/plain": [
       " 5\n",
       "x "
      ]
     },
     "execution_count": 54,
     "metadata": {},
     "output_type": "execute_result"
    }
   ],
   "source": [
    "x**2*x**3"
   ]
  },
  {
   "cell_type": "code",
   "execution_count": 55,
   "metadata": {
    "collapsed": false
   },
   "outputs": [
    {
     "data": {
      "image/png": "[encoded data removed]",
      "text/latex": [
       "$$x^{5}$$"
      ],
      "text/plain": [
       " 5\n",
       "x "
      ]
     },
     "execution_count": 55,
     "metadata": {},
     "output_type": "execute_result"
    }
   ],
   "source": [
    "expand_power_exp(x**5)"
   ]
  },
  {
   "cell_type": "markdown",
   "metadata": {},
   "source": [
    "### powdenest\n",
    "\n",
    "`powdenest()` 함수는 왼쪽에서 오른쪽으로 항등식 3에 적용된다."
   ]
  },
  {
   "cell_type": "code",
   "execution_count": 56,
   "metadata": {
    "collapsed": false
   },
   "outputs": [
    {
     "data": {
      "image/png": "[encoded data removed]",
      "text/latex": [
       "$$x^{a b}$$"
      ],
      "text/plain": [
       " a⋅b\n",
       "x   "
      ]
     },
     "execution_count": 56,
     "metadata": {},
     "output_type": "execute_result"
    }
   ],
   "source": [
    "powdenest((x**a)**b)"
   ]
  },
  {
   "cell_type": "code",
   "execution_count": 57,
   "metadata": {
    "collapsed": false
   },
   "outputs": [
    {
     "data": {
      "image/png": "[encoded data removed]",
      "text/latex": [
       "$$\\left(z^{a}\\right)^{b}$$"
      ],
      "text/plain": [
       "    b\n",
       "⎛ a⎞ \n",
       "⎝z ⎠ "
      ]
     },
     "execution_count": 57,
     "metadata": {},
     "output_type": "execute_result"
    }
   ],
   "source": [
    "powdenest((z**a)**b)"
   ]
  },
  {
   "cell_type": "markdown",
   "metadata": {},
   "source": [
    "이전과 마찬가지로 `force=True` 인자를 넣어 수동으로 강제적용시킬 수 있다."
   ]
  },
  {
   "cell_type": "code",
   "execution_count": 58,
   "metadata": {
    "collapsed": false
   },
   "outputs": [
    {
     "data": {
      "image/png": "[encoded data removed]",
      "text/latex": [
       "$$z^{a b}$$"
      ],
      "text/plain": [
       " a⋅b\n",
       "z   "
      ]
     },
     "execution_count": 58,
     "metadata": {},
     "output_type": "execute_result"
    }
   ],
   "source": [
    "powdenest((z**a)**b, force=True)"
   ]
  },
  {
   "cell_type": "markdown",
   "metadata": {},
   "source": [
    "## 지수와 로그\n",
    "\n",
    "> 파이썬과 프로그래밍 언어 대부분처럼, 심파이에서 `log`는 자연로그다. `ln`으로도 알려져있다. 심파이에서 자동으로 `ln=log` 별칭을 제공한다.  \n",
    "> `>>>` ln(x)  \n",
    "log(x)"
   ]
  },
  {
   "cell_type": "markdown",
   "metadata": {},
   "source": [
    "로그도 지수와 유사한 이슈가 있다. 로그와 관련된 주요 등식 두개는 다음과 같다.\n",
    "\n",
    "1. $log(xy) = log(x) + log(y)$\n",
    "1. $log(x^n ) = n log(x)$\n",
    "\n",
    "임의 복소수 $x$와 $y$에 대해 어떤 항등식도 참이 아니다. 왜냐하면, 복소수 알고리즘에 대한 복소 평면에 분지절단(branch cut) 때문이다. 하지만, 등식이 성립하는 충분조건은 $x$와 $y$가 양수이며 $n$이 실수인 경우다."
   ]
  },
  {
   "cell_type": "code",
   "execution_count": 59,
   "metadata": {
    "collapsed": true
   },
   "outputs": [],
   "source": [
    "x, y = symbols('x y', positive = True)\n",
    "n = symbols('n', real=True)"
   ]
  },
  {
   "cell_type": "markdown",
   "metadata": {},
   "source": [
    "등식 $\\log{\\left (\\frac{x}{y}\\right )} = \\log(x) - \\log(y)$은 등식 1, 2의 특수한 경우로 $\\log{\\left (\\frac{x}{y}\\right )} = \\log{\\left (x\\cdot\\frac{1}{y}\\right )} = \\log(x) + \\log{\\left(y^{-1}\\right )} = \\log(x) - \\log(y)$ 이 되고, $x$ 와 $y$ 가 양수이면 성립하지만, 일반적으로 성립되는 것은 아니다.\n",
    "\n",
    "$\\log{\\left( e^x \\right)} = x$ 등식은 $\\log{\\left ( e^x \\right)} = x\\log(e) = x$ 에서 나온다. 따라서, $x$ 가 실수이면 성립된다. (임의 복소수 $x$ 에 대해서는 성립되지 않는 것을 확인될 수 있다. 예를 들어, $\\log{\\left (e^{x + 2\\pi i}\\right)} = \\log{\\left (e^x\\right )} = x\n",
    "\\neq x + 2\\pi i$)"
   ]
  },
  {
   "cell_type": "markdown",
   "metadata": {},
   "source": [
    "### expand_log\n",
    "\n",
    "왼쪽에서 등식 1,2 를 적용하려면, `expand_log()`를 사용한다.\n",
    "늘 그렇지만, 등식은 적법하지 않는 경우 적용되지 않는다."
   ]
  },
  {
   "cell_type": "code",
   "execution_count": 60,
   "metadata": {
    "collapsed": false
   },
   "outputs": [
    {
     "data": {
      "image/png": "[encoded data removed]",
      "text/latex": [
       "$$\\log{\\left (x \\right )} + \\log{\\left (y \\right )}$$"
      ],
      "text/plain": [
       "log(x) + log(y)"
      ]
     },
     "execution_count": 60,
     "metadata": {},
     "output_type": "execute_result"
    }
   ],
   "source": [
    "expand_log(log(x*y))"
   ]
  },
  {
   "cell_type": "code",
   "execution_count": 61,
   "metadata": {
    "collapsed": false
   },
   "outputs": [
    {
     "data": {
      "image/png": "[encoded data removed]",
      "text/latex": [
       "$$\\log{\\left (x \\right )} - \\log{\\left (y \\right )}$$"
      ],
      "text/plain": [
       "log(x) - log(y)"
      ]
     },
     "execution_count": 61,
     "metadata": {},
     "output_type": "execute_result"
    }
   ],
   "source": [
    "expand_log(log(x/y))"
   ]
  },
  {
   "cell_type": "code",
   "execution_count": 63,
   "metadata": {
    "collapsed": false
   },
   "outputs": [
    {
     "data": {
      "image/png": "[encoded data removed]",
      "text/latex": [
       "$$2 \\log{\\left (x \\right )}$$"
      ],
      "text/plain": [
       "2⋅log(x)"
      ]
     },
     "execution_count": 63,
     "metadata": {},
     "output_type": "execute_result"
    }
   ],
   "source": [
    "expand_log(log(x**2))"
   ]
  },
  {
   "cell_type": "code",
   "execution_count": 64,
   "metadata": {
    "collapsed": false
   },
   "outputs": [
    {
     "data": {
      "image/png": "[encoded data removed]",
      "text/latex": [
       "$$n \\log{\\left (x \\right )}$$"
      ],
      "text/plain": [
       "n⋅log(x)"
      ]
     },
     "execution_count": 64,
     "metadata": {},
     "output_type": "execute_result"
    }
   ],
   "source": [
    "expand_log(log(x**n))"
   ]
  },
  {
   "cell_type": "code",
   "execution_count": 65,
   "metadata": {
    "collapsed": false
   },
   "outputs": [
    {
     "data": {
      "image/png": "[encoded data removed]",
      "text/latex": [
       "$$\\log{\\left (t z \\right )}$$"
      ],
      "text/plain": [
       "log(t⋅z)"
      ]
     },
     "execution_count": 65,
     "metadata": {},
     "output_type": "execute_result"
    }
   ],
   "source": [
    "expand_log(log(z*t))"
   ]
  },
  {
   "cell_type": "markdown",
   "metadata": {},
   "source": [
    "`powsimp()`과 `powdenest()` 함수와 마찬가지로, `expand_log()`도 `force` 선택옵션으로 가정을 무시하는데 사용한다."
   ]
  },
  {
   "cell_type": "code",
   "execution_count": 66,
   "metadata": {
    "collapsed": false
   },
   "outputs": [
    {
     "data": {
      "image/png": "[encoded data removed]",
      "text/latex": [
       "$$\\log{\\left (z^{2} \\right )}$$"
      ],
      "text/plain": [
       "   ⎛ 2⎞\n",
       "log⎝z ⎠"
      ]
     },
     "execution_count": 66,
     "metadata": {},
     "output_type": "execute_result"
    }
   ],
   "source": [
    "expand_log(log(z**2))"
   ]
  },
  {
   "cell_type": "code",
   "execution_count": 67,
   "metadata": {
    "collapsed": false
   },
   "outputs": [
    {
     "data": {
      "image/png": "[encoded data removed]",
      "text/latex": [
       "$$2 \\log{\\left (z \\right )}$$"
      ],
      "text/plain": [
       "2⋅log(z)"
      ]
     },
     "execution_count": 67,
     "metadata": {},
     "output_type": "execute_result"
    }
   ],
   "source": [
    "expand_log(log(z**2), force=True)"
   ]
  },
  {
   "cell_type": "markdown",
   "metadata": {},
   "source": [
    "### logcombine\n",
    "\n",
    "오른쪽에서 왼쪽으로 항등식 1, 2를 적용하려면, `logcombine()` 함수를 사용한다."
   ]
  },
  {
   "cell_type": "code",
   "execution_count": 68,
   "metadata": {
    "collapsed": false
   },
   "outputs": [
    {
     "data": {
      "image/png": "[encoded data removed]",
      "text/latex": [
       "$$\\log{\\left (x y \\right )}$$"
      ],
      "text/plain": [
       "log(x⋅y)"
      ]
     },
     "execution_count": 68,
     "metadata": {},
     "output_type": "execute_result"
    }
   ],
   "source": [
    "logcombine(log(x) + log(y))"
   ]
  },
  {
   "cell_type": "code",
   "execution_count": 69,
   "metadata": {
    "collapsed": false
   },
   "outputs": [
    {
     "data": {
      "image/png": "[encoded data removed]",
      "text/latex": [
       "$$\\log{\\left (x^{n} \\right )}$$"
      ],
      "text/plain": [
       "   ⎛ n⎞\n",
       "log⎝x ⎠"
      ]
     },
     "execution_count": 69,
     "metadata": {},
     "output_type": "execute_result"
    }
   ],
   "source": [
    "logcombine(n*log(x))"
   ]
  },
  {
   "cell_type": "code",
   "execution_count": 70,
   "metadata": {
    "collapsed": false
   },
   "outputs": [
    {
     "data": {
      "image/png": "[encoded data removed]",
      "text/latex": [
       "$$n \\log{\\left (z \\right )}$$"
      ],
      "text/plain": [
       "n⋅log(z)"
      ]
     },
     "execution_count": 70,
     "metadata": {},
     "output_type": "execute_result"
    }
   ],
   "source": [
    "logcombine(n*log(z))"
   ]
  },
  {
   "cell_type": "markdown",
   "metadata": {},
   "source": [
    "`logcombine()` 함수에 `force` 선택옵션을 사용해서 가정을 무시하고 적용할 수도 있다."
   ]
  },
  {
   "cell_type": "code",
   "execution_count": 71,
   "metadata": {
    "collapsed": false
   },
   "outputs": [
    {
     "data": {
      "image/png": "[encoded data removed]",
      "text/latex": [
       "$$\\log{\\left (z^{n} \\right )}$$"
      ],
      "text/plain": [
       "   ⎛ n⎞\n",
       "log⎝z ⎠"
      ]
     },
     "execution_count": 71,
     "metadata": {},
     "output_type": "execute_result"
    }
   ],
   "source": [
    "logcombine(n*log(z), force=True)"
   ]
  },
  {
   "cell_type": "markdown",
   "metadata": {},
   "source": [
    "## 특수 함수\n",
    "\n",
    "심파이에는 수십가지 특수 함수가 구현되어 있는데, 조합론에 나온 함수부터 수리물리학까지 아우른다.\n",
    "\n",
    "심파이에 포함된 특수 함수 목록과 연관된 문서는 [Functions Module](http://docs.sympy.org/latest/modules/functions/index.html#functions-contents) 웹페이지를 참조한다.\n",
    "\n",
    "심파이에 구현된 몇가지 특수함수를 소개한다.\n",
    "\n",
    "`x`, `y`, `z`를 정규, 복소수 기호로 정의하고 앞절에서 제시한 가정을 무시한다.\n",
    "`k`, `m`, `n`도 함께 정의한다."
   ]
  },
  {
   "cell_type": "code",
   "execution_count": 72,
   "metadata": {
    "collapsed": true
   },
   "outputs": [],
   "source": [
    "x, y, z = symbols('x y z')\n",
    "k, m, n = symbols('k m n')"
   ]
  },
  {
   "cell_type": "markdown",
   "metadata": {},
   "source": [
    "[차례곱(factorial)](http://en.wikipedia.org/wiki/Factorial) 함수는 `factorial`이다.\n",
    "`factorial(n)`은 $n!= 1\\cdot2\\cdots(n - 1)\\cdot n$을 나타낸다. $n!$은 $n$개 확연히 구분되는 항목에 대한 순열을 나타낸다."
   ]
  },
  {
   "cell_type": "code",
   "execution_count": 73,
   "metadata": {
    "collapsed": false
   },
   "outputs": [
    {
     "data": {
      "image/png": "[encoded data removed]",
      "text/latex": [
       "$$n!$$"
      ],
      "text/plain": [
       "n!"
      ]
     },
     "execution_count": 73,
     "metadata": {},
     "output_type": "execute_result"
    }
   ],
   "source": [
    "factorial(n)"
   ]
  },
  {
   "cell_type": "markdown",
   "metadata": {},
   "source": [
    "[이항계수(binomial coefficient)](http://en.wikipedia.org/wiki/Binomial_coefficient) 함수는 `binomial`이다.\n",
    "`binomial(n, k)`는 $\\binom{n}{k}$로 표현되고, $n$개 확연히 구분되는 항복으로부터 $k$ 개 항목을 선택하는 방법의 수를 나타낸다. $nCk$로도 작성하고 ''$n$ choose $k$''라고 발음한다."
   ]
  },
  {
   "cell_type": "code",
   "execution_count": 74,
   "metadata": {
    "collapsed": false
   },
   "outputs": [
    {
     "data": {
      "image/png": "[encoded data removed]",
      "text/latex": [
       "$${\\binom{n}{k}}$$"
      ],
      "text/plain": [
       "⎛n⎞\n",
       "⎜ ⎟\n",
       "⎝k⎠"
      ]
     },
     "execution_count": 74,
     "metadata": {},
     "output_type": "execute_result"
    }
   ],
   "source": [
    "binomial(n, k)"
   ]
  },
  {
   "cell_type": "markdown",
   "metadata": {},
   "source": [
    "차례곱 함수는 [감마함수(gamma function)](http://en.wikipedia.org/wiki/Gamma_function)과 밀접하게 관련되어 있다. `gamma(z)`는 $\\Gamma(z) = \\int_0^\\infty t^{z - 1}e^{-t}\\,dt$ 으로 표현되고 양의 정수 $z$에 대해 $(z-1)!$과 같다."
   ]
  },
  {
   "cell_type": "code",
   "execution_count": 75,
   "metadata": {
    "collapsed": false
   },
   "outputs": [
    {
     "data": {
      "image/png": "[encoded data removed]",
      "text/latex": [
       "$$\\Gamma{\\left(z \\right)}$$"
      ],
      "text/plain": [
       "Γ(z)"
      ]
     },
     "execution_count": 75,
     "metadata": {},
     "output_type": "execute_result"
    }
   ],
   "source": [
    "gamma(z)"
   ]
  },
  {
   "cell_type": "markdown",
   "metadata": {},
   "source": [
    "[일반화 초기하 함수(Generalized hypergeometric function)](http://en.wikipedia.org/wiki/Generalized_hypergeometric_function)는 \n",
    "`hyper`다. `hyper([a_1, ..., a_p], [b_1, ..., b_q], z)`는 ${}_pF_q\\left(\\begin{matrix} a_1, \\dots, a_p \\\\ b_1, \\dots, b_q \\end{matrix}\n",
    "\\middle| z \\right)$ 표현된다. 가장 일반적인 경우가 ${}_2F_1$ 으로 [보통 초기하 함수(ordinary hypergeometric function)](http://en.wikipedia.org/wiki/Hypergeometric_function)를 흔히 지칭한다."
   ]
  },
  {
   "cell_type": "code",
   "execution_count": 77,
   "metadata": {
    "collapsed": false
   },
   "outputs": [
    {
     "data": {
      "image/png": "[encoded data removed]",
      "text/latex": [
       "$${{}_{2}F_{1}\\left(\\begin{matrix} 1, 2 \\\\ 3 \\end{matrix}\\middle| {z} \\right)}$$"
      ],
      "text/plain": [
       " ┌─  ⎛1, 2 │  ⎞\n",
       " ├─  ⎜     │ z⎟\n",
       "2╵ 1 ⎝ 3   │  ⎠"
      ]
     },
     "execution_count": 77,
     "metadata": {},
     "output_type": "execute_result"
    }
   ],
   "source": [
    "hyper([1, 2], [3], z)"
   ]
  },
  {
   "cell_type": "markdown",
   "metadata": {},
   "source": [
    "### 다시 고쳐쓰기\n",
    "\n",
    "특수 함수를 다루는 일반적인 방식은 다른 것에 관해서 다시 작성하는 것이다.\n",
    "특수 함수 뿐만 아니라, 심파이에 어떤 함수에도 해당된다.함수에 관해 표현식을 다시 작성하려면, \n",
    "`expr.rewrite(function)` 메쏘드를 사용한다. 예를 들어,"
   ]
  },
  {
   "cell_type": "code",
   "execution_count": 78,
   "metadata": {
    "collapsed": false
   },
   "outputs": [
    {
     "data": {
      "image/png": "[encoded data removed]",
      "text/latex": [
       "$$\\frac{2 \\sin^{2}{\\left (x \\right )}}{\\sin{\\left (2 x \\right )}}$$"
      ],
      "text/plain": [
       "     2   \n",
       "2⋅sin (x)\n",
       "─────────\n",
       " sin(2⋅x)"
      ]
     },
     "execution_count": 78,
     "metadata": {},
     "output_type": "execute_result"
    }
   ],
   "source": [
    "tan(x).rewrite(sin)"
   ]
  },
  {
   "cell_type": "code",
   "execution_count": 79,
   "metadata": {
    "collapsed": false
   },
   "outputs": [
    {
     "data": {
      "image/png": "[encoded data removed]",
      "text/latex": [
       "$$\\Gamma{\\left(x + 1 \\right)}$$"
      ],
      "text/plain": [
       "Γ(x + 1)"
      ]
     },
     "execution_count": 79,
     "metadata": {},
     "output_type": "execute_result"
    }
   ],
   "source": [
    "factorial(x).rewrite(gamma)"
   ]
  },
  {
   "cell_type": "markdown",
   "metadata": {},
   "source": [
    "좀더 고급 다시 작성하는 방법에 대한 도움말은 [Advanced Expression Manipulation](http://docs.sympy.org/latest/tutorial/manipulation.html#tutorial-manipulation)을 참조한다."
   ]
  },
  {
   "cell_type": "markdown",
   "metadata": {},
   "source": [
    "### expand_func\n",
    "\n",
    "항등식에 관해서 특수 함수를 전개하려면, `expand_func()` 함수를 사용한다. 예를 들어,"
   ]
  },
  {
   "cell_type": "code",
   "execution_count": 80,
   "metadata": {
    "collapsed": false
   },
   "outputs": [
    {
     "data": {
      "image/png": "[encoded data removed]",
      "text/latex": [
       "$$x \\left(x + 1\\right) \\left(x + 2\\right) \\Gamma{\\left(x \\right)}$$"
      ],
      "text/plain": [
       "x⋅(x + 1)⋅(x + 2)⋅Γ(x)"
      ]
     },
     "execution_count": 80,
     "metadata": {},
     "output_type": "execute_result"
    }
   ],
   "source": [
    "expand_func(gamma(x + 3))"
   ]
  },
  {
   "cell_type": "markdown",
   "metadata": {},
   "source": [
    "### hyperexpand\n",
    "\n",
    "`hyper`를 좀더 표준 함수로 다시 작성하려면, `hyperexpand()`를 사용한다."
   ]
  },
  {
   "cell_type": "code",
   "execution_count": 81,
   "metadata": {
    "collapsed": false
   },
   "outputs": [
    {
     "data": {
      "image/png": "[encoded data removed]",
      "text/latex": [
       "$$- \\frac{1}{z} \\log{\\left (- z + 1 \\right )}$$"
      ],
      "text/plain": [
       "-log(-z + 1) \n",
       "─────────────\n",
       "      z      "
      ]
     },
     "execution_count": 81,
     "metadata": {},
     "output_type": "execute_result"
    }
   ],
   "source": [
    "hyperexpand(hyper([1,1],[2],z))"
   ]
  },
  {
   "cell_type": "markdown",
   "metadata": {},
   "source": [
    "`hyperexpand()` 함수도 좀더 일반적인 Meijer G-함수에 동작한다."
   ]
  },
  {
   "cell_type": "code",
   "execution_count": 82,
   "metadata": {
    "collapsed": false
   },
   "outputs": [
    {
     "data": {
      "image/png": "[encoded data removed]",
      "text/latex": [
       "$${G_{2, 1}^{1, 1}\\left(\\begin{matrix} 1 & 1 \\\\1 &  \\end{matrix} \\middle| {- z} \\right)}$$"
      ],
      "text/plain": [
       "╭─╮1, 1 ⎛1  1 │   ⎞\n",
       "│╶┐     ⎜     │ -z⎟\n",
       "╰─╯2, 1 ⎝1    │   ⎠"
      ]
     },
     "execution_count": 82,
     "metadata": {},
     "output_type": "execute_result"
    }
   ],
   "source": [
    "expr = meijerg([[1],[1]], [[1],[]], -z)\n",
    "expr"
   ]
  },
  {
   "cell_type": "code",
   "execution_count": 83,
   "metadata": {
    "collapsed": false
   },
   "outputs": [
    {
     "data": {
      "image/png": "[encoded data removed]",
      "text/latex": [
       "$$e^{\\frac{1}{z}}$$"
      ],
      "text/plain": [
       " 1\n",
       " ─\n",
       " z\n",
       "ℯ "
      ]
     },
     "execution_count": 83,
     "metadata": {},
     "output_type": "execute_result"
    }
   ],
   "source": [
    "hyperexpand(expr)"
   ]
  },
  {
   "cell_type": "markdown",
   "metadata": {},
   "source": [
    "### combsimp\n",
    "\n",
    "조합 표현식을 간략화는데, `combsimp()` 함수를 사용한다."
   ]
  },
  {
   "cell_type": "code",
   "execution_count": 84,
   "metadata": {
    "collapsed": false
   },
   "outputs": [
    {
     "data": {
      "image/png": "[encoded data removed]",
      "text/latex": [
       "$$n \\left(n - 2\\right) \\left(n - 1\\right)$$"
      ],
      "text/plain": [
       "n⋅(n - 2)⋅(n - 1)"
      ]
     },
     "execution_count": 84,
     "metadata": {},
     "output_type": "execute_result"
    }
   ],
   "source": [
    "combsimp(factorial(n)/factorial(n - 3))"
   ]
  },
  {
   "cell_type": "code",
   "execution_count": 85,
   "metadata": {
    "collapsed": false
   },
   "outputs": [
    {
     "data": {
      "image/png": "[encoded data removed]",
      "text/latex": [
       "$$\\frac{n + 1}{k + 1}$$"
      ],
      "text/plain": [
       "n + 1\n",
       "─────\n",
       "k + 1"
      ]
     },
     "execution_count": 85,
     "metadata": {},
     "output_type": "execute_result"
    }
   ],
   "source": [
    "combsimp(binomial(n+1, k+1)/binomial(n, k))"
   ]
  },
  {
   "cell_type": "markdown",
   "metadata": {},
   "source": [
    "`combsimp()`함수는 `gamma` 함수를 갖는 표현식도 간략화한다."
   ]
  },
  {
   "cell_type": "code",
   "execution_count": 86,
   "metadata": {
    "collapsed": false
   },
   "outputs": [
    {
     "data": {
      "image/png": "[encoded data removed]",
      "text/latex": [
       "$$\\frac{\\pi}{\\sin{\\left (\\pi x \\right )}}$$"
      ],
      "text/plain": [
       "   π    \n",
       "────────\n",
       "sin(π⋅x)"
      ]
     },
     "execution_count": 86,
     "metadata": {},
     "output_type": "execute_result"
    }
   ],
   "source": [
    "combsimp(gamma(x)*gamma(1-x))"
   ]
  },
  {
   "cell_type": "markdown",
   "metadata": {},
   "source": [
    "## 예제: 연분수\n",
    "\n",
    "심파이를 사용해서 연분수(continued fraction)을 살펴보자.\n",
    "[연분수(continued fraction)](http://en.wikipedia.org/wiki/Continued_fraction)는 다음 형태를 갖는 표현식이다.\n",
    "\n",
    "$ a_0 + \\cfrac{1}{a_1 + \\cfrac{1}{a_2 + \\cfrac{1}{ \\ddots + \\cfrac{1}{a_n}}}}$\n",
    "\n",
    "$a_0, \\ldots, a_n$ 은 정수고, $a_1, \\ldots, a_n$ 은 양수다.\n",
    "연분수는 무한일 수도 있지만, 무한 객체를 컴퓨터로 표현하는 것이 더 어려워서, 여기서는 유한인 경우만 살펴본다.\n",
    "\n",
    "상기와 같은 연분수는 $[a_0; a_1, \\ldots, a_n]$ 리스트 형태로 표현된다.\n",
    "간단한 함수를 작성해서 이러한 리스트를 연분수 형태로 변환하자.\n",
    "리스트에서 연분수를 작성하는 가장 쉬운 방법은 반대방향으로 작업하는 것이다.\n",
    "정의에 대한 명백한 대칭성에도 불구하고, 첫번째 요소, $a_0$는 나머지와 다르게 보통 처리된다."
   ]
  },
  {
   "cell_type": "code",
   "execution_count": 87,
   "metadata": {
    "collapsed": false
   },
   "outputs": [
    {
     "data": {
      "image/png": "[encoded data removed]",
      "text/latex": [
       "$$x + \\frac{1}{y + \\frac{1}{z}}$$"
      ],
      "text/plain": [
       "      1  \n",
       "x + ─────\n",
       "        1\n",
       "    y + ─\n",
       "        z"
      ]
     },
     "execution_count": 87,
     "metadata": {},
     "output_type": "execute_result"
    }
   ],
   "source": [
    "def list_to_frac(l):\n",
    "    expr = Integer(0)\n",
    "    for i in reversed(l[1:]):\n",
    "        expr += i\n",
    "        expr = 1/expr\n",
    "    return l[0] + expr\n",
    "list_to_frac([x, y, z])"
   ]
  },
  {
   "cell_type": "markdown",
   "metadata": {},
   "source": [
    "파이썬 정수를 인수로 전달할지라도, `list_to_frac` 함수에 `integer(0)`를 사용해서 결과는 항상 심파이 객체다. "
   ]
  },
  {
   "cell_type": "code",
   "execution_count": 90,
   "metadata": {
    "collapsed": false
   },
   "outputs": [
    {
     "data": {
      "image/png": "[encoded data removed]",
      "text/latex": [
       "$$\\frac{43}{30}$$"
      ],
      "text/plain": [
       "43\n",
       "──\n",
       "30"
      ]
     },
     "execution_count": 90,
     "metadata": {},
     "output_type": "execute_result"
    }
   ],
   "source": [
    "list_to_frac([1,2,3,4])"
   ]
  },
  {
   "cell_type": "markdown",
   "metadata": {},
   "source": [
    "모든 유한 연분수는 유리수지만 여기서 기호에 관심이 있어, 기호 연분수를 생성하자.\n",
    "지금까지 사용한 `symbols()` 함수는 숫자 번호 매긴 기호를 생성하는 축약법이 있다.\n",
    "`symbols('a0:5)` 는 `a0`, `a1`, ..., `a5` 기호를 생성한다."
   ]
  },
  {
   "cell_type": "code",
   "execution_count": 91,
   "metadata": {
    "collapsed": false
   },
   "outputs": [
    {
     "data": {
      "image/png": "[encoded data removed]",
      "text/latex": [
       "$$\\left ( a_{0}, \\quad a_{1}, \\quad a_{2}, \\quad a_{3}, \\quad a_{4}\\right )$$"
      ],
      "text/plain": [
       "(a₀, a₁, a₂, a₃, a₄)"
      ]
     },
     "execution_count": 91,
     "metadata": {},
     "output_type": "execute_result"
    }
   ],
   "source": [
    "syms = symbols('a0:5')\n",
    "syms"
   ]
  },
  {
   "cell_type": "code",
   "execution_count": 92,
   "metadata": {
    "collapsed": false
   },
   "outputs": [
    {
     "data": {
      "image/png": "[encoded data removed]",
      "text/latex": [
       "$$a_{0} + \\frac{1}{a_{1} + \\frac{1}{a_{2} + \\frac{1}{a_{3} + \\frac{1}{a_{4}}}}}$$"
      ],
      "text/plain": [
       "             1        \n",
       "a₀ + ─────────────────\n",
       "               1      \n",
       "     a₁ + ────────────\n",
       "                  1   \n",
       "          a₂ + ───────\n",
       "                    1 \n",
       "               a₃ + ──\n",
       "                    a₄"
      ]
     },
     "execution_count": 92,
     "metadata": {},
     "output_type": "execute_result"
    }
   ],
   "source": [
    "a0, a1, a2, a3, a4 = syms\n",
    "frac = list_to_frac(syms)\n",
    "frac"
   ]
  },
  {
   "cell_type": "markdown",
   "metadata": {},
   "source": [
    "상기 형태는 연분수를 이해하는데 도움이 된다. `cancel()` 함수를 사용해서 표준 유리함수 형태로 표현해 본다."
   ]
  },
  {
   "cell_type": "code",
   "execution_count": 93,
   "metadata": {
    "collapsed": false
   },
   "outputs": [
    {
     "data": {
      "image/png": "[encoded data removed]",
      "text/latex": [
       "$$\\frac{a_{0} a_{1} a_{2} a_{3} a_{4} + a_{0} a_{1} a_{2} + a_{0} a_{1} a_{4} + a_{0} a_{3} a_{4} + a_{0} + a_{2} a_{3} a_{4} + a_{2} + a_{4}}{a_{1} a_{2} a_{3} a_{4} + a_{1} a_{2} + a_{1} a_{4} + a_{3} a_{4} + 1}$$"
      ],
      "text/plain": [
       "a₀⋅a₁⋅a₂⋅a₃⋅a₄ + a₀⋅a₁⋅a₂ + a₀⋅a₁⋅a₄ + a₀⋅a₃⋅a₄ + a₀ + a₂⋅a₃⋅a₄ + a₂ + a₄\n",
       "─────────────────────────────────────────────────────────────────────────\n",
       "                 a₁⋅a₂⋅a₃⋅a₄ + a₁⋅a₂ + a₁⋅a₄ + a₃⋅a₄ + 1                 "
      ]
     },
     "execution_count": 93,
     "metadata": {},
     "output_type": "execute_result"
    }
   ],
   "source": [
    "frac = cancel(frac)\n",
    "frac"
   ]
  },
  {
   "cell_type": "markdown",
   "metadata": {},
   "source": [
    "`frac`이 소거된 형태로 주어졌다고 가정하자.\n",
    "사실, 분수는 어떤 형태로도 주어질 수 있지만, `cancel()` 함수로 위와 같은 표준형으로 항상 표현할 수 있다.\n",
    "연분수 형태로 다시 작성될 수 있다는 사실을 인지한다고 가정하자.\n",
    "심파이로 어떻게 작업할 수 있을까?\n",
    "연분수는 재귀적인 $c + \\frac{1}{f}$ 형태로, $c$는 정수가 되고, $f$는 (더 작은) 연분수가 된다.\n",
    "표현식을 이런 형태로 작성할 수 있으면, 재귀적으로 $c$ 각각을 뽑아내서 리스트에 추가할 수 있다.\n",
    "그리고 나서, `list_to_frac()` 함수로 연분수를 얻을 수 있게 된다.\n",
    "\n",
    "여기서 중요한 점은 표현식을 $c$에 관해서 부분 분수분해 작업을 통해서 $c + \\frac{1}{f}$ 형태로 전환할 수 있다는 것이다. $f$가 $c$를 포함하고 있지 않기 때문이다.\n",
    "이것이 의미하는 바는 `apart()` 함수를 사용할 필요가 있다는 점이다.\n",
    "`apart()` 함수를 사용해서 해당 항을 뽑아내고 나서 표현식에서 빼기하고 $f$ 부분을 얻는데 역수를 취한다."
   ]
  },
  {
   "cell_type": "code",
   "execution_count": 94,
   "metadata": {
    "collapsed": false
   },
   "outputs": [
    {
     "data": {
      "image/png": "[encoded data removed]",
      "text/latex": [
       "$$a_{0} + \\frac{a_{2} a_{3} a_{4} + a_{2} + a_{4}}{a_{1} a_{2} a_{3} a_{4} + a_{1} a_{2} + a_{1} a_{4} + a_{3} a_{4} + 1}$$"
      ],
      "text/plain": [
       "                a₂⋅a₃⋅a₄ + a₂ + a₄          \n",
       "a₀ + ───────────────────────────────────────\n",
       "     a₁⋅a₂⋅a₃⋅a₄ + a₁⋅a₂ + a₁⋅a₄ + a₃⋅a₄ + 1"
      ]
     },
     "execution_count": 94,
     "metadata": {},
     "output_type": "execute_result"
    }
   ],
   "source": [
    "l = []\n",
    "frac = apart(frac, a0)\n",
    "frac"
   ]
  },
  {
   "cell_type": "code",
   "execution_count": 95,
   "metadata": {
    "collapsed": false
   },
   "outputs": [
    {
     "data": {
      "image/png": "[encoded data removed]",
      "text/latex": [
       "$$\\frac{1}{a_{2} a_{3} a_{4} + a_{2} + a_{4}} \\left(a_{1} a_{2} a_{3} a_{4} + a_{1} a_{2} + a_{1} a_{4} + a_{3} a_{4} + 1\\right)$$"
      ],
      "text/plain": [
       "a₁⋅a₂⋅a₃⋅a₄ + a₁⋅a₂ + a₁⋅a₄ + a₃⋅a₄ + 1\n",
       "───────────────────────────────────────\n",
       "           a₂⋅a₃⋅a₄ + a₂ + a₄          "
      ]
     },
     "execution_count": 95,
     "metadata": {},
     "output_type": "execute_result"
    }
   ],
   "source": [
    "l.append(a0)\n",
    "frac = 1/(frac -a0)\n",
    "frac"
   ]
  },
  {
   "cell_type": "markdown",
   "metadata": {},
   "source": [
    "이제 이와 같은 과정을 반복한다."
   ]
  },
  {
   "cell_type": "code",
   "execution_count": 96,
   "metadata": {
    "collapsed": false
   },
   "outputs": [
    {
     "data": {
      "image/png": "[encoded data removed]",
      "text/latex": [
       "$$a_{1} + \\frac{a_{3} a_{4} + 1}{a_{2} a_{3} a_{4} + a_{2} + a_{4}}$$"
      ],
      "text/plain": [
       "         a₃⋅a₄ + 1     \n",
       "a₁ + ──────────────────\n",
       "     a₂⋅a₃⋅a₄ + a₂ + a₄"
      ]
     },
     "execution_count": 96,
     "metadata": {},
     "output_type": "execute_result"
    }
   ],
   "source": [
    "frac = apart(frac, a1)\n",
    "frac"
   ]
  },
  {
   "cell_type": "code",
   "execution_count": 97,
   "metadata": {
    "collapsed": false
   },
   "outputs": [
    {
     "data": {
      "image/png": "[encoded data removed]",
      "text/latex": [
       "$$a_{2} + \\frac{a_{4}}{a_{3} a_{4} + 1}$$"
      ],
      "text/plain": [
       "         a₄   \n",
       "a₂ + ─────────\n",
       "     a₃⋅a₄ + 1"
      ]
     },
     "execution_count": 97,
     "metadata": {},
     "output_type": "execute_result"
    }
   ],
   "source": [
    "l.append(a1)\n",
    "frac = 1/(frac - a1)\n",
    "frac = apart(frac, a2)\n",
    "frac"
   ]
  },
  {
   "cell_type": "code",
   "execution_count": 98,
   "metadata": {
    "collapsed": false
   },
   "outputs": [
    {
     "data": {
      "image/png": "[encoded data removed]",
      "text/latex": [
       "$$a_{3} + \\frac{1}{a_{4}}$$"
      ],
      "text/plain": [
       "     1 \n",
       "a₃ + ──\n",
       "     a₄"
      ]
     },
     "execution_count": 98,
     "metadata": {},
     "output_type": "execute_result"
    }
   ],
   "source": [
    "l.append(a2)\n",
    "frac = 1/(frac - a2)\n",
    "frac = apart(frac, a3)\n",
    "frac"
   ]
  },
  {
   "cell_type": "code",
   "execution_count": 99,
   "metadata": {
    "collapsed": false
   },
   "outputs": [
    {
     "data": {
      "image/png": "[encoded data removed]",
      "text/latex": [
       "$$a_{4}$$"
      ],
      "text/plain": [
       "a₄"
      ]
     },
     "execution_count": 99,
     "metadata": {},
     "output_type": "execute_result"
    }
   ],
   "source": [
    "l.append(a3)\n",
    "frac = 1/(frac - a3)\n",
    "frac = apart(frac, a4)\n",
    "frac"
   ]
  },
  {
   "cell_type": "code",
   "execution_count": 100,
   "metadata": {
    "collapsed": false
   },
   "outputs": [
    {
     "data": {
      "image/png": "[encoded data removed]",
      "text/latex": [
       "$$a_{0} + \\frac{1}{a_{1} + \\frac{1}{a_{2} + \\frac{1}{a_{3} + \\frac{1}{a_{4}}}}}$$"
      ],
      "text/plain": [
       "             1        \n",
       "a₀ + ─────────────────\n",
       "               1      \n",
       "     a₁ + ────────────\n",
       "                  1   \n",
       "          a₂ + ───────\n",
       "                    1 \n",
       "               a₃ + ──\n",
       "                    a₄"
      ]
     },
     "execution_count": 100,
     "metadata": {},
     "output_type": "execute_result"
    }
   ],
   "source": [
    "l.append(a4)\n",
    "list_to_frac(l)"
   ]
  },
  {
   "cell_type": "markdown",
   "metadata": {},
   "source": [
    "물론 이번 연습문제는 가치가 없다. 왜냐하면, 이미 `frac`이 `list_to_frac([a0, a1, a2, a3, a4])`이라는 것을 알고 있다. 그래서 다음 연습문제를 시도해 보자. 기호 리스트를 받아 임의로 순서를 바꾸고, 소거된 연분수 형태를 생성하자. 최초 리스트를 복원할 수 있는지도 살펴보자. 예를 들어,"
   ]
  },
  {
   "cell_type": "code",
   "execution_count": 109,
   "metadata": {
    "collapsed": false
   },
   "outputs": [],
   "source": [
    "import random\n",
    "l = list(symbols('a0:5'))\n",
    "random.shuffle(l)\n",
    "orig_frac = cancel(list_to_frac(l))\n",
    "del l"
   ]
  },
  {
   "cell_type": "markdown",
   "metadata": {},
   "source": [
    "`frac`에서 `l`을 복원해 본다.\n",
    "훔쳐보는 유혹을 없애고자 마지막에 `l`을 삭제했다.\n",
    "(여러분이 생성한 리스트와 `cancel(list_to_frac(l))` 함수를 호출해서 마지막에 생성된 정답을 검사할 수 있고, `orig_frac` 리스트와 비교도 가능하다)\n",
    "\n",
    "각 단계마다 `apart()` 함수에 어떤 기호를 전달할지 해결하는 방법을 생각해 낼 수 있는지 알아보자.\n",
    "(힌트: 소거될 때 $a_0 + \\frac{1}{a_1 + \\cdots}$ 공식에 $a_0$에 어떤 일이 일어나는지 생각해보라)"
   ]
  }
 ],
 "metadata": {
  "kernelspec": {
   "display_name": "Python 2",
   "language": "python",
   "name": "python2"
  },
  "language_info": {
   "codemirror_mode": {
    "name": "ipython",
    "version": 2
   },
   "file_extension": ".py",
   "mimetype": "text/x-python",
   "name": "python",
   "nbconvert_exporter": "python",
   "pygments_lexer": "ipython2",
   "version": "2.7.11"
  }
 },
 "nbformat": 4,
 "nbformat_minor": 0
}
